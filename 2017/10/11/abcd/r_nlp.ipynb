{
 "cells": [
  {
   "cell_type": "code",
   "execution_count": 1,
   "metadata": {},
   "outputs": [
    {
     "name": "stderr",
     "output_type": "stream",
     "text": [
      "Checking user defined dictionary!\n",
      "\n"
     ]
    }
   ],
   "source": [
    "library(rJava)\n",
    "library(KoNLP)"
   ]
  },
  {
   "cell_type": "code",
   "execution_count": 4,
   "metadata": {},
   "outputs": [
    {
     "data": {
      "text/html": [
       "<ol class=list-inline>\n",
       "\t<li>'연습'</li>\n",
       "\t<li>'명사'</li>\n",
       "\t<li>'추출'</li>\n",
       "\t<li>'것'</li>\n",
       "\t<li>'지구본'</li>\n",
       "</ol>\n"
      ],
      "text/latex": [
       "\\begin{enumerate*}\n",
       "\\item '연습'\n",
       "\\item '명사'\n",
       "\\item '추출'\n",
       "\\item '것'\n",
       "\\item '지구본'\n",
       "\\end{enumerate*}\n"
      ],
      "text/markdown": [
       "1. '연습'\n",
       "2. '명사'\n",
       "3. '추출'\n",
       "4. '것'\n",
       "5. '지구본'\n",
       "\n",
       "\n"
      ],
      "text/plain": [
       "[1] \"연습\"   \"명사\"   \"추출\"   \"것\"     \"지구본\""
      ]
     },
     "metadata": {},
     "output_type": "display_data"
    }
   ],
   "source": [
    "extractNoun(\"연습을 해보자! 명사가 잘 추출되는 것. 지구본은 둥글다.\")"
   ]
  },
  {
   "cell_type": "code",
   "execution_count": 5,
   "metadata": {},
   "outputs": [
    {
     "data": {
      "text/plain": [
       "\n",
       "To cite package ‘KoNLP’ in publications use:\n",
       "\n",
       "  Heewon Jeon (2016). KoNLP: Korean NLP Package. R package version\n",
       "  0.80.1. https://CRAN.R-project.org/package=KoNLP\n",
       "\n",
       "A BibTeX entry for LaTeX users is\n",
       "\n",
       "  @Manual{,\n",
       "    title = {KoNLP: Korean NLP Package},\n",
       "    author = {Heewon Jeon},\n",
       "    year = {2016},\n",
       "    note = {R package version 0.80.1},\n",
       "    url = {https://CRAN.R-project.org/package=KoNLP},\n",
       "  }\n"
      ]
     },
     "metadata": {},
     "output_type": "display_data"
    }
   ],
   "source": [
    "citation(\"KoNLP\")"
   ]
  },
  {
   "cell_type": "code",
   "execution_count": 9,
   "metadata": {},
   "outputs": [
    {
     "name": "stderr",
     "output_type": "stream",
     "text": [
      "Loading required package: xml2\n"
     ]
    }
   ],
   "source": [
    "library(rvest)"
   ]
  },
  {
   "cell_type": "code",
   "execution_count": 10,
   "metadata": {},
   "outputs": [
    {
     "name": "stderr",
     "output_type": "stream",
     "text": [
      "Warning message:\n",
      "“'html' is deprecated.\n",
      "Use 'read_html' instead.\n",
      "See help(\"Deprecated\")”"
     ]
    }
   ],
   "source": [
    "lego_movie <- html(\"http://www.imdb.com/title/tt1490017/\")"
   ]
  },
  {
   "cell_type": "code",
   "execution_count": 11,
   "metadata": {},
   "outputs": [
    {
     "data": {
      "text/plain": [
       "{xml_document}\n",
       "<html xmlns:og=\"http://ogp.me/ns#\" xmlns:fb=\"http://www.facebook.com/2008/fbml\">\n",
       "[1] <head>\\n<meta http-equiv=\"Content-Type\" content=\"text/html; charset=UTF-8 ...\n",
       "[2] <body id=\"styleguide-v2\" class=\"fixed\">\\n<script>\\n    if (typeof uet ==  ..."
      ]
     },
     "metadata": {},
     "output_type": "display_data"
    }
   ],
   "source": [
    "lego_movie"
   ]
  },
  {
   "cell_type": "code",
   "execution_count": 14,
   "metadata": {},
   "outputs": [
    {
     "data": {
      "text/html": [
       "<span style=white-space:pre-wrap>'\\n    Country:\\n        Australia\\n              |\\n        USA\\n              |\\n        Denmark\\n    '</span>"
      ],
      "text/latex": [
       "'\\textbackslash{}n    Country:\\textbackslash{}n        Australia\\textbackslash{}n              \\textbar{}\\textbackslash{}n        USA\\textbackslash{}n              \\textbar{}\\textbackslash{}n        Denmark\\textbackslash{}n    '"
      ],
      "text/markdown": [
       "<span style=white-space:pre-wrap>'\\n    Country:\\n        Australia\\n              |\\n        USA\\n              |\\n        Denmark\\n    '</span>"
      ],
      "text/plain": [
       "[1] \"\\n    Country:\\n        Australia\\n              |\\n        USA\\n              |\\n        Denmark\\n    \""
      ]
     },
     "metadata": {},
     "output_type": "display_data"
    }
   ],
   "source": [
    "lego_movie %>%\n",
    "  html_nodes(\"#titleDetails > div:nth-child(4)\") %>%\n",
    "  html_text()"
   ]
  },
  {
   "cell_type": "code",
   "execution_count": 17,
   "metadata": {},
   "outputs": [],
   "source": [
    "library(reticulate)\n",
    "\n",
    "requests <- import('requests')\n",
    "\n",
    "spaced_sent <- requests$put('http://35.201.156.140:8080/spacing', \n",
    "      data=list(sent=\"아래와같은방식으로API를사용할수있으며,호출건수에대해서별도의제한은없으나,1회 호출에200글자로글자수를제한하고있다.\"))$json() \n",
    "\n",
    "\n"
   ]
  },
  {
   "cell_type": "code",
   "execution_count": null,
   "metadata": {
    "collapsed": true
   },
   "outputs": [],
   "source": []
  }
 ],
 "metadata": {
  "kernelspec": {
   "display_name": "R",
   "language": "R",
   "name": "ir33"
  },
  "language_info": {
   "codemirror_mode": "r",
   "file_extension": ".r",
   "mimetype": "text/x-r-source",
   "name": "R",
   "pygments_lexer": "r",
   "version": "3.4.0"
  },
  "varInspector": {
   "cols": {
    "lenName": 16,
    "lenType": 16,
    "lenVar": 40
   },
   "kernels_config": {
    "python": {
     "delete_cmd_postfix": "",
     "delete_cmd_prefix": "del ",
     "library": "var_list.py",
     "varRefreshCmd": "print(var_dic_list())"
    },
    "r": {
     "delete_cmd_postfix": ") ",
     "delete_cmd_prefix": "rm(",
     "library": "var_list.r",
     "varRefreshCmd": "cat(var_dic_list()) "
    }
   },
   "types_to_exclude": [
    "module",
    "function",
    "builtin_function_or_method",
    "instance",
    "_Feature"
   ],
   "window_display": false
  }
 },
 "nbformat": 4,
 "nbformat_minor": 2
}
